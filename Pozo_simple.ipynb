{
 "cells": [
  {
   "cell_type": "code",
   "execution_count": 12,
   "metadata": {
    "scrolled": true
   },
   "outputs": [
    {
     "ename": "ArgumentError",
     "evalue": "ArgumentError: Package RandomNumbers not found in current path:\n- Run `import Pkg; Pkg.add(\"RandomNumbers\")` to install the RandomNumbers package.\n",
     "output_type": "error",
     "traceback": [
      "ArgumentError: Package RandomNumbers not found in current path:\n- Run `import Pkg; Pkg.add(\"RandomNumbers\")` to install the RandomNumbers package.\n",
      "",
      "Stacktrace:",
      " [1] require(::Module, ::Symbol) at ./loading.jl:887",
      " [2] top-level scope at In[12]:1"
     ]
    }
   ],
   "source": [
    "using OrdinaryDiffEq, LinearAlgebra, ForwardDiff, PyPlot, ChaosTools, DynamicalSystems, Distributions, BenchmarkTools, StaticArrays, RandomNumbers"
   ]
  },
  {
   "cell_type": "code",
   "execution_count": 14,
   "metadata": {},
   "outputs": [
    {
     "name": "stdout",
     "output_type": "stream",
     "text": [
      "\u001b[32m\u001b[1m  Updating\u001b[22m\u001b[39m registry at `~/.julia/registries/General`\n",
      "\u001b[32m\u001b[1m  Updating\u001b[22m\u001b[39m git-repo `https://github.com/JuliaRegistries/General.git`\n",
      "\u001b[2K\u001b[?25h[1mFetching:\u001b[22m\u001b[39m [========================================>]  100.0 %.0 %\u001b[32m\u001b[1m Resolving\u001b[22m\u001b[39m package versions...\n",
      "\u001b[32m\u001b[1m Installed\u001b[22m\u001b[39m RandomNumbers ─ v1.4.0\n",
      "\u001b[32m\u001b[1m  Updating\u001b[22m\u001b[39m `~/.julia/environments/v1.3/Project.toml`\n",
      " \u001b[90m [e6cf234a]\u001b[39m\u001b[92m + RandomNumbers v1.4.0\u001b[39m\n",
      "\u001b[32m\u001b[1m  Updating\u001b[22m\u001b[39m `~/.julia/environments/v1.3/Manifest.toml`\n",
      " \u001b[90m [e6cf234a]\u001b[39m\u001b[92m + RandomNumbers v1.4.0\u001b[39m\n"
     ]
    }
   ],
   "source": [
    "using Pkg\n",
    "Pkg.add(\"RandomNumbers\")"
   ]
  },
  {
   "cell_type": "code",
   "execution_count": null,
   "metadata": {},
   "outputs": [],
   "source": [
    "initial_position = [0.1, 0.,0.,0.,0.,0.,0.,0.,0.]\n",
    "initial_momentum=[0. ,0.1,0.,0.,0.,0.,0.,0.,0.]\n",
    "\n",
    "a=0.2\n",
    "b=0.01\n",
    "\n",
    "m=[1.,0.1,0.1,0.1,0.1,0.1,0.1,0.1,0.1]\n",
    "w=[0.,0.8,0.8,0.8,0.8,0.8,0.8,0.8,0.8]\n",
    "g=[0.,0.1,0.1,0.1,0.1,0.1,0.1,0.1,0.1]\n",
    "\n",
    "X0=17.    \n",
    "P0=1.\n",
    "\n",
    "golden=(1+sqrt(big(5)))/2\n",
    "\n",
    "time=1000.\n",
    "tspan=(0., time)\n",
    "#fig=figure()\n",
    "m[2:end]=m[2:end] #.*0.1\n",
    "w[1]=golden\n",
    "w[2]=0.6324555320336759*0.6925256939166184\n",
    "g[2]=0.02\n",
    "w[3]=0.6324555320336759\n",
    "g[3]=0.01\n",
    "w[4]=0.6324555320336759\n",
    "g[4]=0.04\n",
    "w[5]=0.6324555320336759*1.2639842760097928\n",
    "g[5]=0.01\n",
    "w[6]=0.6324555320336759*1.9720265943665387\n",
    "g[6]=0.06\n",
    "w[7]=0.6324555320336759*3.087272258807117\n",
    "g[7]=0.07\n",
    "w[8]=0.6324555320336759*0.7095577652469335\n",
    "g[8]=0.04\n",
    "w[9]=0.6324555320336759*0.7095577652469335\n",
    "g[9]=0.02\n",
    "\n",
    "W=maximum(w)\n",
    "\n",
    "dts=0.001*2. *pi/W\n",
    "Hsys(q,p) = p[1]^2. /(2. *m[1]) +0.5* -q[1]*g[2]*q[2]+p[2]^2. /(2. *m[2])+m[2]*w[2]^2. *q[2]^2. /2. + q[1]^2. *g[2]^2. /(2. *m[2]*w[2]^2.) -q[1]*g[3]*q[3]+p[3]^2. /(2. *m[3])+m[3]*w[3]^2. *q[3]^2. /2. + q[1]^2. *g[3]^2. /(2. *m[3]*w[3]^2.) -q[1]*g[4]*q[4]+p[4]^2. /(2. *m[4])+m[4]*w[4]^2. *q[4]^2. /2. + q[1]^2. *g[4]^2. /(2. *m[4]*w[4]^2.) -q[1]*g[5]*q[5]+p[5]^2. /(2. *m[5])+m[5]*w[5]^2. *q[5]^2. /2. + q[1]^2. *g[5]^2. /(2. *m[5]*w[5]^2.) -q[1]*g[6]*q[6]+p[6]^2. /(2. *m[6])+m[6]*w[6]^2. *q[6]^2. /2. + q[1]^2. *g[6]^2. /(2. *m[6]*w[6]^2.) -q[1]*g[7]*q[7]+p[7]^2. /(2. *m[7])+m[7]*w[7]^2. *q[7]^2. /2. + q[1]^2. *g[7]^2. /(2. *m[7]*w[7]^2.) -q[1]*g[8]*q[8]+p[8]^2. /(2. *m[8])+m[8]*w[8]^2. *q[8]^2. /2. + q[1]^2. *g[8]^2. /(2. *m[8]*w[8]^2.)-q[1]*g[9]*q[9]+p[9]^2. /(2. *m[9])+m[9]*w[9]^2. *q[9]^2. /2. + q[1]^2. *g[9]^2. /(2. *m[9]*w[9]^2.) \n",
    "pdot(dp,p,q,params,t) = ForwardDiff.gradient!(dp, q->-Hsys(q, p), q)\n",
    "qdot(dq,p,q,params,t) = ForwardDiff.gradient!(dq, p-> Hsys(q, p), p)\n",
    "\n",
    "initial_position[1]=0. #xz0[jj]\n",
    "initial_momentum[1]=0. #pz1[jj]\n",
    "initial_position[2]=1.#Xz0[jj]\n",
    "initial_momentum[2]=0.05#Pz1[jj]\n",
    "initial_position[3]=-1.#Xz0[jj]\n",
    "initial_momentum[3]=-0.05#Pz1[jj]\n",
    "initial_position[4]=-1.5#Xz0[jj]\n",
    "initial_momentum[4]=0.075#Pz1[jj]\n",
    "initial_position[5]=1.5#Xz0[jj]\n",
    "initial_momentum[5]=-0.075#Pz1[jj]\n",
    "initial_position[6]=0.5#Xz0[jj]\n",
    "initial_momentum[6]=0.025#Pz1[jj]\n",
    "initial_position[7]=-0.5#Xz0[jj]\n",
    "initial_momentum[7]=-0.025#Pz1[jj]\n",
    "initial_position[8]=-2.#Xz0[jj]\n",
    "initial_momentum[8]=0.1#Pz1[jj]\n",
    "initial_position[9]=2.#Xz0[jj]\n",
    "initial_momentum[9]=-0.1#Pz1[jj]\n",
    " \n",
    "prob = DynamicalODEProblem(pdot, qdot, initial_momentum, initial_position, tspan)\n",
    "@time sol8 = solve(prob, CalvoSanz4(), dt=dts)\n",
    "subplot(2, 1, 1)\n",
    "plot(sol8[10,:],sol8[1,:],color=\"b\",linewidth=0.5,alpha=0.8)\n",
    "subplot(2, 1, 2)\n",
    "plot(sol8.t[:], sol8[10,:], color=\"b\",linewidth=0.5,alpha=0.8)"
   ]
  },
  {
   "cell_type": "code",
   "execution_count": 4,
   "metadata": {},
   "outputs": [
    {
     "data": {
      "text/plain": [
       "1.61803398874989484820458683436563811772030917980576286213544862270526046281891"
      ]
     },
     "execution_count": 4,
     "metadata": {},
     "output_type": "execute_result"
    }
   ],
   "source": [
    "(1+sqrt(big(5)))/2"
   ]
  },
  {
   "cell_type": "code",
   "execution_count": 15,
   "metadata": {},
   "outputs": [
    {
     "ename": "MethodError",
     "evalue": "MethodError: Cannot `convert` an object of type Array{Float64,2} to an object of type Float64\nClosest candidates are:\n  convert(::Type{T}, !Matched::T) where T<:Number at number.jl:6\n  convert(::Type{T}, !Matched::Number) where T<:Number at number.jl:7\n  convert(::Type{T}, !Matched::Base.TwicePrecision) where T<:Number at twiceprecision.jl:250\n  ...",
     "output_type": "error",
     "traceback": [
      "MethodError: Cannot `convert` an object of type Array{Float64,2} to an object of type Float64\nClosest candidates are:\n  convert(::Type{T}, !Matched::T) where T<:Number at number.jl:6\n  convert(::Type{T}, !Matched::Number) where T<:Number at number.jl:7\n  convert(::Type{T}, !Matched::Base.TwicePrecision) where T<:Number at twiceprecision.jl:250\n  ...",
      "",
      "Stacktrace:",
      " [1] setindex!(::Array{Float64,1}, ::Array{Float64,2}, ::Int64) at ./array.jl:782",
      " [2] top-level scope at ./In[15]:3"
     ]
    }
   ],
   "source": [
    "xs=zeros(1000)\n",
    "for i in 1:1000\n",
    "    xs[i]=rand(Distributions.Exponential(1),0,10)\n",
    "end\n",
    "\n"
   ]
  },
  {
   "cell_type": "code",
   "execution_count": 52,
   "metadata": {},
   "outputs": [
    {
     "name": "stdout",
     "output_type": "stream",
     "text": [
      "1.017746301018936\n"
     ]
    }
   ],
   "source": [
    "y=rand(Truncated(Exponential(1), 0.1, 3))\n",
    "println(y)"
   ]
  },
  {
   "cell_type": "code",
   "execution_count": 41,
   "metadata": {},
   "outputs": [
    {
     "data": {
      "text/plain": [
       "initial_sampling (generic function with 1 method)"
      ]
     },
     "execution_count": 41,
     "metadata": {},
     "output_type": "execute_result"
    }
   ],
   "source": [
    "function initial_sampling(E,w,m,M)\n",
    "    nums=rand(1)*2*pi\n",
    "    x=cos(nums[1])*sqrt(E/(0.5*M*w*w))\n",
    "    y=sin(nums[1])*sqrt(2*m*E)\n",
    "    return x,y\n",
    "end"
   ]
  },
  {
   "cell_type": "code",
   "execution_count": 42,
   "metadata": {},
   "outputs": [
    {
     "data": {
      "text/plain": [
       "(1.5736421700337977, -1.3823354916751895)"
      ]
     },
     "execution_count": 42,
     "metadata": {},
     "output_type": "execute_result"
    }
   ],
   "source": [
    "initial_sampling(1.,0.6,1.,0.1)"
   ]
  },
  {
   "cell_type": "code",
   "execution_count": 38,
   "metadata": {},
   "outputs": [
    {
     "name": "stdout",
     "output_type": "stream",
     "text": [
      "[3.5502121592219096]\n"
     ]
    },
    {
     "data": {
      "text/plain": [
       "-0.9176702266659842"
      ]
     },
     "execution_count": 38,
     "metadata": {},
     "output_type": "execute_result"
    }
   ],
   "source": [
    "a=rand(1)*2*pi\n",
    "println(a)\n",
    "cos(a[1])"
   ]
  },
  {
   "cell_type": "code",
   "execution_count": 53,
   "metadata": {},
   "outputs": [
    {
     "data": {
      "text/plain": [
       "(-8, -10)"
      ]
     },
     "execution_count": 53,
     "metadata": {},
     "output_type": "execute_result"
    }
   ],
   "source": [
    "a=8\n",
    "b=10\n",
    "c,d=-a,-b"
   ]
  },
  {
   "cell_type": "code",
   "execution_count": 3,
   "metadata": {},
   "outputs": [
    {
     "data": {
      "text/plain": [
       "0.7597469266479578"
      ]
     },
     "execution_count": 3,
     "metadata": {},
     "output_type": "execute_result"
    }
   ],
   "source": [
    "0.6324555320336759/(0.6324555320336759+0.20)"
   ]
  },
  {
   "cell_type": "code",
   "execution_count": null,
   "metadata": {},
   "outputs": [],
   "source": []
  }
 ],
 "metadata": {
  "kernelspec": {
   "display_name": "Julia 1.3.0",
   "language": "julia",
   "name": "julia-1.3"
  },
  "language_info": {
   "file_extension": ".jl",
   "mimetype": "application/julia",
   "name": "julia",
   "version": "1.3.0"
  }
 },
 "nbformat": 4,
 "nbformat_minor": 2
}
