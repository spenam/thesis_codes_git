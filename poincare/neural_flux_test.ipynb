{
 "cells": [
  {
   "cell_type": "code",
   "execution_count": 4,
   "metadata": {},
   "outputs": [
    {
     "name": "stderr",
     "output_type": "stream",
     "text": [
      "┌ Info: Precompiling Plots [91a5bcdd-55d7-5caf-9e0b-520d859cae80]\n",
      "└ @ Base loading.jl:1273\n"
     ]
    }
   ],
   "source": [
    "using OrdinaryDiffEq, ForwardDiff, Distributions, RandomNumbers, NPZ, StaticArrays, Flux, DiffEqFlux, DifferentialEquations, Plots"
   ]
  },
  {
   "cell_type": "code",
   "execution_count": 7,
   "metadata": {},
   "outputs": [
    {
     "name": "stdout",
     "output_type": "stream",
     "text": [
      "\u001b[32m\u001b[1m Resolving\u001b[22m\u001b[39m package versions...\n",
      "\u001b[32m\u001b[1m  Updating\u001b[22m\u001b[39m `~/.julia/environments/v1.3/Project.toml`\n",
      "\u001b[90m [no changes]\u001b[39m\n",
      "\u001b[32m\u001b[1m  Updating\u001b[22m\u001b[39m `~/.julia/environments/v1.3/Manifest.toml`\n",
      "\u001b[90m [no changes]\u001b[39m\n",
      "\u001b[32m\u001b[1m Resolving\u001b[22m\u001b[39m package versions...\n",
      "\u001b[32m\u001b[1m  Updating\u001b[22m\u001b[39m `~/.julia/environments/v1.3/Project.toml`\n",
      "\u001b[90m [no changes]\u001b[39m\n",
      "\u001b[32m\u001b[1m  Updating\u001b[22m\u001b[39m `~/.julia/environments/v1.3/Manifest.toml`\n",
      "\u001b[90m [no changes]\u001b[39m\n",
      "\u001b[32m\u001b[1m Resolving\u001b[22m\u001b[39m package versions...\n",
      "\u001b[32m\u001b[1m  Updating\u001b[22m\u001b[39m `~/.julia/environments/v1.3/Project.toml`\n",
      "\u001b[90m [no changes]\u001b[39m\n",
      "\u001b[32m\u001b[1m  Updating\u001b[22m\u001b[39m `~/.julia/environments/v1.3/Manifest.toml`\n",
      "\u001b[90m [no changes]\u001b[39m\n",
      "\u001b[32m\u001b[1m Resolving\u001b[22m\u001b[39m package versions...\n",
      "\u001b[32m\u001b[1m  Updating\u001b[22m\u001b[39m `~/.julia/environments/v1.3/Project.toml`\n",
      "\u001b[90m [no changes]\u001b[39m\n",
      "\u001b[32m\u001b[1m  Updating\u001b[22m\u001b[39m `~/.julia/environments/v1.3/Manifest.toml`\n",
      "\u001b[90m [no changes]\u001b[39m\n",
      "\u001b[32m\u001b[1m Resolving\u001b[22m\u001b[39m package versions...\n",
      "\u001b[32m\u001b[1m  Updating\u001b[22m\u001b[39m `~/.julia/environments/v1.3/Project.toml`\n",
      " \u001b[90m [429524aa]\u001b[39m\u001b[92m + Optim v0.20.6\u001b[39m\n",
      "\u001b[32m\u001b[1m  Updating\u001b[22m\u001b[39m `~/.julia/environments/v1.3/Manifest.toml`\n",
      "\u001b[90m [no changes]\u001b[39m\n"
     ]
    }
   ],
   "source": [
    "using Pkg\n",
    "Pkg.add(\"DiffEqFlux\")\n",
    "Pkg.add(\"Flux\")\n",
    "Pkg.add(\"Plots\")\n",
    "Pkg.add(\"DifferentialEquations\")\n",
    "Pkg.add(\"Optim\")\n"
   ]
  },
  {
   "cell_type": "code",
   "execution_count": 8,
   "metadata": {},
   "outputs": [],
   "source": [
    "using Optim"
   ]
  },
  {
   "cell_type": "code",
   "execution_count": 10,
   "metadata": {},
   "outputs": [
    {
     "data": {
      "text/plain": [
       "2×30 Array{Float32,2}:\n",
       " 2.0  1.9465    1.74179  1.23837  0.577126  …  1.40772   1.3708    1.29182 \n",
       " 0.0  0.798831  1.46474  1.80878  1.86465      0.454613  0.732333  0.975774"
      ]
     },
     "execution_count": 10,
     "metadata": {},
     "output_type": "execute_result"
    }
   ],
   "source": [
    "u0 = Float32[2.; 0.]\n",
    "datasize = 30\n",
    "tspan = (0.0f0,1.5f0)\n",
    "\n",
    "function trueODEfunc(du,u,p,t)\n",
    "    true_A = [-0.1 2.0; -2.0 -0.1]\n",
    "    du .= ((u.^3)'true_A)'\n",
    "end\n",
    "t = range(tspan[1],tspan[2],length=datasize)\n",
    "prob = ODEProblem(trueODEfunc,u0,tspan)\n",
    "ode_data = Array(solve(prob,Tsit5(),saveat=t))"
   ]
  },
  {
   "cell_type": "code",
   "execution_count": 13,
   "metadata": {},
   "outputs": [
    {
     "data": {
      "text/plain": [
       "(::NeuralODE{Chain{Tuple{var\"#11#12\",Dense{typeof(tanh),Array{Float32,2},Array{Float32,1}},Dense{typeof(identity),Array{Float32,2},Array{Float32,1}}}},Array{Float32,1},Flux.var\"#12#14\"{Chain{Tuple{var\"#11#12\",Dense{typeof(tanh),Array{Float32,2},Array{Float32,1}},Dense{typeof(identity),Array{Float32,2},Array{Float32,1}}}}},Tuple{Float32,Float32},Tsit5,Tuple{},Base.Iterators.Pairs{Symbol,StepRangeLen{Float32,Float64,Float64},Tuple{Symbol},NamedTuple{(:saveat,),Tuple{StepRangeLen{Float32,Float64,Float64}}}}}) (generic function with 2 methods)"
      ]
     },
     "execution_count": 13,
     "metadata": {},
     "output_type": "execute_result"
    }
   ],
   "source": [
    "dudt2 = Chain(x -> x.^3,\n",
    "             Dense(2,50,tanh),\n",
    "             Dense(50,2))\n",
    "n_ode = NeuralODE(dudt2,tspan,Tsit5(),saveat=t)"
   ]
  },
  {
   "cell_type": "code",
   "execution_count": 14,
   "metadata": {},
   "outputs": [
    {
     "data": {
      "text/plain": [
       "(253.33412f0, t: Float32[0.0, 0.05172414, 0.10344828, 0.15517241, 0.20689656, 0.25862068, 0.31034482, 0.36206895, 0.41379312, 0.46551725  …  1.0344827, 1.0862069, 1.137931, 1.1896552, 1.2413793, 1.2931035, 1.3448275, 1.3965517, 1.4482758, 1.5]\n",
       "u: Array{Float32,1}[[2.0, 0.0], [2.0438008, -0.02940846], [2.0869322, -0.059056204], [2.1293612, -0.08888443], [2.17107, -0.11884414], [2.2120528, -0.14889483], [2.2523117, -0.17900531], [2.291855, -0.20915048], [2.330695, -0.23931205], [2.3688452, -0.2694765]  …  [2.7472968, -0.60089606], [2.7782805, -0.6310974], [2.8087347, -0.661343], [2.8386657, -0.6916415], [2.86808, -0.72200215], [2.8969827, -0.7524351], [2.9253788, -0.78294903], [2.9532719, -0.8135544], [2.9806666, -0.84426177], [3.0075653, -0.8750804]])"
      ]
     },
     "execution_count": 14,
     "metadata": {},
     "output_type": "execute_result"
    }
   ],
   "source": [
    "function predict_n_ode(p)\n",
    "  n_ode(u0,p)\n",
    "end\n",
    "\n",
    "function loss_n_ode(p)\n",
    "    pred = predict_n_ode(p)\n",
    "    loss = sum(abs2,ode_data .- pred)\n",
    "    loss,pred\n",
    "end\n",
    "\n",
    "loss_n_ode(n_ode.p) # n_ode.p stores the initial parameters of the neural ODE"
   ]
  },
  {
   "cell_type": "code",
   "execution_count": 1,
   "metadata": {},
   "outputs": [
    {
     "ename": "UndefVarError",
     "evalue": "UndefVarError: n_ode not defined",
     "output_type": "error",
     "traceback": [
      "UndefVarError: n_ode not defined",
      "",
      "Stacktrace:",
      " [1] top-level scope at In[1]:11"
     ]
    }
   ],
   "source": [
    "cb = function (p,l,pred;doplot=false) #callback function to observe training\n",
    "  display(l)\n",
    "  # plot current prediction against data\n",
    "  if doplot\n",
    "    pl = scatter(t,ode_data[1,:],label=\"data\")\n",
    "    scatter!(pl,t,pred[1,:],label=\"prediction\")\n",
    "    display(plot(pl))\n",
    "  end\n",
    "  return false\n",
    "end\n",
    "\n",
    "# Display the ODE with the initial parameter values.\n",
    "cb(n_ode.p,loss_n_ode(n_ode.p)...)\n",
    "\n",
    "res1 = DiffEqFlux.sciml_train(loss_n_ode, n_ode.p, ADAM(0.05), cb = cb, maxiters = 300)\n",
    "cb(res1.minimizer,loss_n_ode(res1.minimizer)...;doplot=true)\n",
    "res2 = DiffEqFlux.sciml_train(loss_n_ode, res1.minimizer, LBFGS(), cb = cb)\n",
    "cb(res2.minimizer,loss_n_ode(res2.minimizer)...;doplot=true)\n",
    "\n",
    "# result is res2 as an Optim.jl object\n",
    "# res2.minimizer are the best parameters\n",
    "# res2.minimum is the best loss"
   ]
  },
  {
   "cell_type": "code",
   "execution_count": null,
   "metadata": {},
   "outputs": [],
   "source": []
  }
 ],
 "metadata": {
  "kernelspec": {
   "display_name": "Julia 1.3.0",
   "language": "julia",
   "name": "julia-1.3"
  },
  "language_info": {
   "file_extension": ".jl",
   "mimetype": "application/julia",
   "name": "julia",
   "version": "1.3.0"
  }
 },
 "nbformat": 4,
 "nbformat_minor": 4
}
