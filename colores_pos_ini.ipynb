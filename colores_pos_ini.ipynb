{
 "cells": [
  {
   "cell_type": "code",
   "execution_count": 1,
   "metadata": {},
   "outputs": [],
   "source": [
    "using OrdinaryDiffEq, LinearAlgebra, ForwardDiff, PyPlot"
   ]
  },
  {
   "cell_type": "code",
   "execution_count": 2,
   "metadata": {},
   "outputs": [
    {
     "name": "stdout",
     "output_type": "stream",
     "text": [
      "40000\n",
      "-30.0\n"
     ]
    }
   ],
   "source": [
    "grid_length=200\n",
    "X1 = range(-30,stop=30,length=grid_length)\n",
    "P1=range(-2,stop=2,length=grid_length)\n",
    "grid=Iterators.product(X1,P1)\n",
    "grid=collect.(grid)\n",
    "println(length(grid))\n",
    "\n",
    "println(grid[1][1])"
   ]
  },
  {
   "cell_type": "code",
   "execution_count": 3,
   "metadata": {},
   "outputs": [
    {
     "data": {
      "text/plain": [
       "energia_poinc (generic function with 1 method)"
      ]
     },
     "execution_count": 3,
     "metadata": {},
     "output_type": "execute_result"
    }
   ],
   "source": [
    "function energia_poinc(x0, p0, m0, M0, a0, b0, H0)\n",
    "    return (2. *M0*(H0-p0*p0/(2. *m0)+a*x0*x0/2. -b*x0*x0*x0*x0/4. ))^(1. /2. )\n",
    "end"
   ]
  },
  {
   "cell_type": "code",
   "execution_count": 4,
   "metadata": {},
   "outputs": [
    {
     "name": "stdout",
     "output_type": "stream",
     "text": [
      "0.0025\n",
      "0.005\n",
      "0.0075\n",
      "0.01\n",
      "0.0125\n",
      "0.015\n",
      "0.0175\n",
      "0.02\n",
      "0.0225\n",
      "0.025\n",
      "0.0275\n",
      "0.03\n",
      "0.0325\n",
      "0.035\n",
      "0.0375\n",
      "0.04\n",
      "0.0425\n",
      "0.045\n",
      "0.0475\n",
      "0.05\n",
      "0.0525\n",
      "0.055\n",
      "0.0575\n",
      "0.06\n",
      "0.0625\n",
      "0.065\n",
      "0.0675\n",
      "0.07\n",
      "0.0725\n",
      "0.075\n",
      "0.0775\n",
      "0.08\n",
      "0.0825\n",
      "0.085\n",
      "0.0875\n",
      "0.09\n",
      "0.0925\n",
      "0.095\n",
      "0.0975\n",
      "0.1\n",
      "0.1025\n",
      "0.105\n",
      "0.1075\n",
      "0.11\n",
      "0.1125\n",
      "0.115\n",
      "0.1175\n",
      "0.12\n",
      "0.1225\n",
      "0.125\n",
      "0.1275\n",
      "0.13\n",
      "0.1325\n",
      "0.135\n",
      "0.1375\n",
      "0.14\n",
      "0.1425\n",
      "0.145\n",
      "0.1475\n",
      "0.15\n",
      "0.1525\n",
      "0.155\n",
      "0.1575\n",
      "0.16\n",
      "0.1625\n",
      "0.165\n",
      "0.1675\n",
      "0.17\n",
      "0.1725\n",
      "0.175\n",
      "0.1775\n",
      "0.18\n",
      "0.1825\n",
      "0.185\n",
      "0.1875\n",
      "0.19\n",
      "0.1925\n",
      "0.195\n",
      "0.1975\n",
      "0.2\n",
      "0.2025\n",
      "0.205\n",
      "0.2075\n",
      "0.21\n",
      "0.2125\n",
      "0.215\n",
      "0.2175\n",
      "0.22\n",
      "0.2225\n",
      "0.225\n",
      "0.2275\n",
      "0.23\n",
      "0.2325\n",
      "0.235\n",
      "0.2375\n",
      "0.24\n",
      "0.2425\n",
      "0.245\n",
      "0.2475\n",
      "0.25\n",
      "0.2525\n",
      "0.255\n",
      "0.2575\n",
      "0.26\n",
      "0.2625\n",
      "0.265\n",
      "0.2675\n",
      "0.27\n",
      "0.2725\n",
      "0.275\n",
      "0.2775\n",
      "0.28\n",
      "0.2825\n",
      "0.285\n",
      "0.2875\n",
      "0.29\n",
      "0.2925\n",
      "0.295\n",
      "0.2975\n",
      "0.3\n",
      "0.3025\n",
      "0.305\n",
      "0.3075\n",
      "0.31\n",
      "0.3125\n",
      "0.315\n",
      "0.3175\n",
      "0.32\n",
      "0.3225\n",
      "0.325\n",
      "0.3275\n",
      "0.33\n",
      "0.3325\n",
      "0.335\n",
      "0.3375\n",
      "0.34\n",
      "0.3425\n",
      "0.345\n",
      "0.3475\n",
      "0.35\n",
      "0.3525\n",
      "0.355\n",
      "0.3575\n",
      "0.36\n",
      "0.3625\n",
      "0.365\n",
      "0.3675\n",
      "0.37\n",
      "0.3725\n",
      "0.375\n",
      "0.3775\n",
      "0.38\n",
      "0.3825\n",
      "0.385\n",
      "0.3875\n",
      "0.39\n",
      "0.3925\n",
      "0.395\n",
      "0.3975\n",
      "0.4\n",
      "0.4025\n",
      "0.405\n",
      "0.4075\n",
      "0.41\n",
      "0.4125\n",
      "0.415\n",
      "0.4175\n",
      "0.42\n",
      "0.4225\n",
      "0.425\n",
      "0.4275\n",
      "0.43\n",
      "0.4325\n",
      "0.435\n",
      "0.4375\n",
      "0.44\n",
      "0.4425\n",
      "0.445\n",
      "0.4475\n",
      "0.45\n",
      "0.4525\n",
      "0.455\n",
      "0.4575\n",
      "0.46\n",
      "0.4625\n",
      "0.465\n",
      "0.4675\n",
      "0.47\n",
      "0.4725\n",
      "0.475\n",
      "0.4775\n",
      "0.48\n",
      "0.4825\n",
      "0.485\n",
      "0.4875\n",
      "0.49\n",
      "0.4925\n",
      "0.495\n",
      "0.4975\n",
      "0.5\n",
      "0.5025\n",
      "0.505\n",
      "0.5075\n",
      "0.51\n",
      "0.5125\n",
      "0.515\n",
      "0.5175\n",
      "0.52\n",
      "0.5225\n",
      "0.525\n",
      "0.5275\n",
      "0.53\n",
      "0.5325\n",
      "0.535\n",
      "0.5375\n",
      "0.54\n",
      "0.5425\n",
      "0.545\n",
      "0.5475\n",
      "0.55\n",
      "0.5525\n",
      "0.555\n",
      "0.5575\n",
      "0.56\n",
      "0.5625\n",
      "0.565\n",
      "0.5675\n",
      "0.57\n",
      "0.5725\n",
      "0.575\n",
      "0.5775\n",
      "0.58\n",
      "0.5825\n",
      "0.585\n",
      "0.5875\n",
      "0.59\n",
      "0.5925\n",
      "0.595\n",
      "0.5975\n",
      "0.6\n",
      "0.6025\n",
      "0.605\n",
      "0.6075\n",
      "0.61\n",
      "0.6125\n",
      "0.615\n",
      "0.6175\n",
      "0.62\n",
      "0.6225\n",
      "0.625\n",
      "0.6275\n",
      "0.63\n",
      "0.6325\n",
      "0.635\n",
      "0.6375\n",
      "0.64\n",
      "0.6425\n",
      "0.645\n",
      "0.6475\n",
      "0.65\n",
      "0.6525\n",
      "0.655\n",
      "0.6575\n",
      "0.66\n",
      "0.6625\n",
      "0.665\n",
      "0.6675\n",
      "0.67\n",
      "0.6725\n",
      "0.675\n",
      "0.6775\n",
      "0.68\n",
      "0.6825\n",
      "0.685\n",
      "0.6875\n",
      "0.69\n",
      "0.6925\n",
      "0.695\n",
      "0.6975\n",
      "0.7\n",
      "0.7025\n",
      "0.705\n",
      "0.7075\n",
      "0.71\n",
      "0.7125\n",
      "0.715\n",
      "0.7175\n",
      "0.72\n",
      "0.7225\n",
      "0.725\n",
      "0.7275\n",
      "0.73\n",
      "0.7325\n",
      "0.735\n",
      "0.7375\n",
      "0.74\n",
      "0.7425\n",
      "0.745\n",
      "0.7475\n",
      "0.75\n",
      "0.7525\n",
      "0.755\n",
      "0.7575\n",
      "0.76\n",
      "0.7625\n",
      "0.765\n",
      "0.7675\n",
      "0.77\n",
      "0.7725\n",
      "0.775\n",
      "0.7775\n",
      "0.78\n",
      "0.7825\n",
      "0.785\n",
      "0.7875\n",
      "0.79\n",
      "0.7925\n",
      "0.795\n",
      "0.7975\n",
      "0.8\n",
      "0.8025\n",
      "0.805\n",
      "0.8075\n",
      "0.81\n",
      "0.8125\n",
      "0.815\n",
      "0.8175\n",
      "0.82\n",
      "0.8225\n",
      "0.825\n",
      "0.8275\n",
      "0.83\n",
      "0.8325\n",
      "0.835\n",
      "0.8375\n",
      "0.84\n",
      "0.8425\n",
      "0.845\n",
      "0.8475\n",
      "0.85\n",
      "0.8525\n",
      "0.855\n",
      "0.8575\n",
      "0.86\n",
      "0.8625\n",
      "0.865\n",
      "0.8675\n",
      "0.87\n",
      "0.8725\n",
      "0.875\n",
      "0.8775\n",
      "0.88\n",
      "0.8825\n",
      "0.885\n",
      "0.8875\n",
      "0.89\n",
      "0.8925\n",
      "0.895\n",
      "0.8975\n",
      "0.9\n",
      "0.9025\n",
      "0.905\n",
      "0.9075\n",
      "0.91\n",
      "0.9125\n",
      "0.915\n",
      "0.9175\n",
      "0.92\n",
      "0.9225\n",
      "0.925\n",
      "0.9275\n",
      "0.93\n",
      "0.9325\n",
      "0.935\n",
      "0.9375\n",
      "0.94\n",
      "0.9425\n",
      "0.945\n",
      "0.9475\n",
      "0.95\n",
      "0.9525\n",
      "0.955\n",
      "0.9575\n",
      "0.96\n",
      "0.9625\n",
      "0.965\n",
      "0.9675\n",
      "0.97\n",
      "0.9725\n",
      "0.975\n",
      "0.9775\n",
      "0.98\n",
      "0.9825\n",
      "0.985\n",
      "0.9875\n",
      "0.99\n",
      "0.9925\n",
      "0.995\n",
      "0.9975\n",
      "1.0\n"
     ]
    }
   ],
   "source": [
    "m=[1.,0.1]\n",
    "w=[0.,0.7071]\n",
    "g=[0.,0.0025]\n",
    "a=0.25\n",
    "b=0.01\n",
    "time=10.\n",
    "dts=0.01*2. *pi/w[2]\n",
    "tspan = (0,time)\n",
    "initial_position = [0., 0.]\n",
    "#initial_velocity = [-4./m[1], (-1. )^1. *energia_poinc(0.,-3.4957/m[1],m[1],m[2],a,b,Hinicial)/m[2]]\n",
    "initial_momentum=[0. ,0.]\n",
    "colors=zeros(length(grid))\n",
    "Hsys(q,p) = p[1]^2. /(2. *m[1]) - a*q[1]^2. /2. +b*q[1]^4. /4. +q[1]*g[2]*q[2]+ p[2]^2. /(2. *m[2]) +0.5*m[2]*w[2]^2. *q[2]^2.  \n",
    "pdot(dp,p,q,params,t) = ForwardDiff.gradient!(dp, q->-Hsys(q, p), q)\n",
    "qdot(dq,p,q,params,t) = ForwardDiff.gradient!(dq, p-> Hsys(q, p), p)\n",
    "k=0.\n",
    "\n",
    "\n",
    "for I in range(1,stop=length(grid),length=length(grid))\n",
    "    if I%100==0\n",
    "        println(I/length(grid))\n",
    "    end\n",
    "    #Hinicial=20.0\n",
    "    initial_position[2]=grid[Int(I)][1]\n",
    "    initial_momentum[2]=grid[Int(I)][2]\n",
    "            \n",
    "    \n",
    "    prob = DynamicalODEProblem(pdot, qdot, initial_momentum, initial_position, tspan)\n",
    "    sol3 = solve(prob, CalvoSanz4(), dt=dts);\n",
    "    k=sol3\n",
    "    for i in range(1,stop=length(sol3[3,:])-1,length=length(sol3[3,:])-1)\n",
    "        if sol3[3,Int(i)] < 6. && sol3[3,Int(i+1)] >= 6.\n",
    "            colors[Int(I)]=1.\n",
    "            break\n",
    "        elseif sol3[3,Int(i)] > -6. && sol3[3,Int(i+1)] <= -6.\n",
    "            colors[Int(I)]=0.\n",
    "            break\n",
    "        end\n",
    "    end\n",
    "end"
   ]
  },
  {
   "cell_type": "code",
   "execution_count": 64,
   "metadata": {},
   "outputs": [
    {
     "data": {
      "text/plain": [
       "114"
      ]
     },
     "execution_count": 64,
     "metadata": {},
     "output_type": "execute_result"
    }
   ],
   "source": [
    "length(k[3,:])"
   ]
  },
  {
   "cell_type": "code",
   "execution_count": 5,
   "metadata": {},
   "outputs": [
    {
     "data": {
      "text/plain": [
       "200×200 Adjoint{Float64,Array{Float64,2}}:\n",
       " 1.0  1.0  1.0  1.0  1.0  1.0  1.0  1.0  …  0.0  0.0  0.0  0.0  0.0  0.0  0.0\n",
       " 1.0  1.0  1.0  1.0  1.0  1.0  1.0  1.0     0.0  0.0  0.0  0.0  0.0  0.0  0.0\n",
       " 1.0  1.0  1.0  1.0  1.0  1.0  1.0  1.0     0.0  0.0  0.0  0.0  0.0  0.0  0.0\n",
       " 1.0  1.0  1.0  1.0  1.0  1.0  1.0  1.0     0.0  0.0  0.0  0.0  0.0  0.0  0.0\n",
       " 1.0  1.0  1.0  1.0  1.0  1.0  1.0  1.0     0.0  0.0  0.0  0.0  0.0  0.0  0.0\n",
       " 1.0  1.0  1.0  1.0  1.0  1.0  1.0  1.0  …  0.0  0.0  0.0  0.0  0.0  0.0  0.0\n",
       " 1.0  1.0  1.0  1.0  1.0  1.0  1.0  1.0     0.0  0.0  0.0  0.0  0.0  0.0  0.0\n",
       " 1.0  1.0  1.0  1.0  1.0  1.0  1.0  1.0     0.0  0.0  0.0  0.0  0.0  0.0  0.0\n",
       " 1.0  1.0  1.0  1.0  1.0  1.0  1.0  1.0     0.0  0.0  0.0  0.0  0.0  0.0  0.0\n",
       " 1.0  1.0  1.0  1.0  1.0  1.0  1.0  1.0     0.0  0.0  0.0  0.0  0.0  0.0  0.0\n",
       " 1.0  1.0  1.0  1.0  1.0  1.0  1.0  1.0  …  0.0  0.0  0.0  0.0  0.0  0.0  0.0\n",
       " 1.0  1.0  1.0  1.0  1.0  1.0  1.0  1.0     0.0  0.0  0.0  0.0  0.0  0.0  0.0\n",
       " 1.0  1.0  1.0  1.0  1.0  1.0  1.0  1.0     0.0  0.0  0.0  0.0  0.0  0.0  0.0\n",
       " ⋮                        ⋮              ⋱            ⋮                      \n",
       " 0.0  0.0  0.0  0.0  0.0  0.0  0.0  0.0     0.0  0.0  0.0  0.0  0.0  0.0  0.0\n",
       " 0.0  0.0  0.0  0.0  0.0  0.0  0.0  0.0     0.0  0.0  0.0  0.0  0.0  0.0  0.0\n",
       " 0.0  0.0  0.0  0.0  0.0  0.0  0.0  0.0  …  0.0  0.0  0.0  0.0  0.0  0.0  0.0\n",
       " 0.0  0.0  0.0  0.0  0.0  0.0  0.0  0.0     0.0  0.0  0.0  0.0  0.0  0.0  0.0\n",
       " 0.0  0.0  0.0  0.0  0.0  0.0  0.0  0.0     0.0  0.0  0.0  0.0  0.0  0.0  0.0\n",
       " 0.0  0.0  0.0  0.0  0.0  0.0  0.0  0.0     0.0  0.0  0.0  0.0  0.0  0.0  0.0\n",
       " 0.0  0.0  0.0  0.0  0.0  0.0  0.0  0.0     0.0  0.0  0.0  0.0  0.0  0.0  0.0\n",
       " 0.0  0.0  0.0  0.0  0.0  0.0  0.0  0.0  …  0.0  0.0  0.0  0.0  0.0  0.0  0.0\n",
       " 0.0  0.0  0.0  0.0  0.0  0.0  0.0  0.0     0.0  0.0  0.0  0.0  0.0  0.0  0.0\n",
       " 0.0  0.0  0.0  0.0  0.0  0.0  0.0  0.0     0.0  0.0  0.0  0.0  0.0  0.0  0.0\n",
       " 0.0  0.0  0.0  0.0  0.0  0.0  0.0  0.0     0.0  0.0  0.0  0.0  0.0  0.0  0.0\n",
       " 0.0  0.0  0.0  0.0  0.0  0.0  0.0  0.0     0.0  0.0  0.0  0.0  0.0  0.0  0.0"
      ]
     },
     "execution_count": 5,
     "metadata": {},
     "output_type": "execute_result"
    }
   ],
   "source": [
    "colors=reshape(colors,(grid_length,grid_length))\n",
    "colors=colors'"
   ]
  },
  {
   "cell_type": "code",
   "execution_count": 154,
   "metadata": {},
   "outputs": [
    {
     "name": "stdout",
     "output_type": "stream",
     "text": [
      "[0.0, 0.0010840520255744127, 0.0044239408258600664, 0.010146323388650244, 0.01837371301115847, 0.029224306698260368, 0.04281183821297549, 0.05924545745846121, 0.07862963658034038, 0.10106410284557361, 0.12664379797911043, 0.15545886322259417]\n",
      "1.0\n"
     ]
    }
   ],
   "source": [
    "println(k6[3,1:12])\n",
    "println(colors[6])\n",
    "#k58=0.\n",
    "#k59=0.\n",
    "#k60=0.\n",
    "#k61=0.\n",
    "#k62=0.\n",
    "#k63=0."
   ]
  },
  {
   "cell_type": "code",
   "execution_count": 155,
   "metadata": {},
   "outputs": [
    {
     "data": {
      "text/plain": [
       "2-element Array{Float64,1}:\n",
       " 30.0\n",
       " -2.0"
      ]
     },
     "execution_count": 155,
     "metadata": {},
     "output_type": "execute_result"
    }
   ],
   "source": [
    "grid[100]"
   ]
  },
  {
   "cell_type": "code",
   "execution_count": 156,
   "metadata": {},
   "outputs": [
    {
     "data": {
      "text/plain": [
       "-2.0"
      ]
     },
     "execution_count": 156,
     "metadata": {},
     "output_type": "execute_result"
    }
   ],
   "source": [
    "grid[1][2]"
   ]
  },
  {
   "cell_type": "code",
   "execution_count": 6,
   "metadata": {},
   "outputs": [
    {
     "data": {
      "text/plain": [
       "200×200 Array{Float64,2}:\n",
       "  2.0       2.0       2.0       2.0      …   2.0       2.0       2.0    \n",
       "  1.9799    1.9799    1.9799    1.9799       1.9799    1.9799    1.9799 \n",
       "  1.9598    1.9598    1.9598    1.9598       1.9598    1.9598    1.9598 \n",
       "  1.9397    1.9397    1.9397    1.9397       1.9397    1.9397    1.9397 \n",
       "  1.9196    1.9196    1.9196    1.9196       1.9196    1.9196    1.9196 \n",
       "  1.8995    1.8995    1.8995    1.8995   …   1.8995    1.8995    1.8995 \n",
       "  1.8794    1.8794    1.8794    1.8794       1.8794    1.8794    1.8794 \n",
       "  1.8593    1.8593    1.8593    1.8593       1.8593    1.8593    1.8593 \n",
       "  1.8392    1.8392    1.8392    1.8392       1.8392    1.8392    1.8392 \n",
       "  1.8191    1.8191    1.8191    1.8191       1.8191    1.8191    1.8191 \n",
       "  1.79899   1.79899   1.79899   1.79899  …   1.79899   1.79899   1.79899\n",
       "  1.77889   1.77889   1.77889   1.77889      1.77889   1.77889   1.77889\n",
       "  1.75879   1.75879   1.75879   1.75879      1.75879   1.75879   1.75879\n",
       "  ⋮                                      ⋱                              \n",
       " -1.77889  -1.77889  -1.77889  -1.77889     -1.77889  -1.77889  -1.77889\n",
       " -1.79899  -1.79899  -1.79899  -1.79899     -1.79899  -1.79899  -1.79899\n",
       " -1.8191   -1.8191   -1.8191   -1.8191   …  -1.8191   -1.8191   -1.8191 \n",
       " -1.8392   -1.8392   -1.8392   -1.8392      -1.8392   -1.8392   -1.8392 \n",
       " -1.8593   -1.8593   -1.8593   -1.8593      -1.8593   -1.8593   -1.8593 \n",
       " -1.8794   -1.8794   -1.8794   -1.8794      -1.8794   -1.8794   -1.8794 \n",
       " -1.8995   -1.8995   -1.8995   -1.8995      -1.8995   -1.8995   -1.8995 \n",
       " -1.9196   -1.9196   -1.9196   -1.9196   …  -1.9196   -1.9196   -1.9196 \n",
       " -1.9397   -1.9397   -1.9397   -1.9397      -1.9397   -1.9397   -1.9397 \n",
       " -1.9598   -1.9598   -1.9598   -1.9598      -1.9598   -1.9598   -1.9598 \n",
       " -1.9799   -1.9799   -1.9799   -1.9799      -1.9799   -1.9799   -1.9799 \n",
       " -2.0      -2.0      -2.0      -2.0         -2.0      -2.0      -2.0    "
      ]
     },
     "execution_count": 6,
     "metadata": {},
     "output_type": "execute_result"
    }
   ],
   "source": [
    "\n",
    "XX1=zeros(length(grid[:]))\n",
    "PP1=zeros(length(grid[:]))\n",
    "for i in range(1, stop=length(grid[:]),length=length(grid[:]))\n",
    "    XX1[Int(i)]=grid[Int(i)][1]\n",
    "    PP1[Int(i)]=grid[Int(i)][2]\n",
    "end\n",
    "XX1=reshape(XX1,(grid_length,grid_length))\n",
    "PP1=reshape(PP1,(grid_length,grid_length))\n",
    "#colors=reshape(colors,(10,10))\n",
    "XX1=rotl90(XX1)\n",
    "PP1=rotl90(PP1)\n",
    "#colors=colors'\n"
   ]
  },
  {
   "cell_type": "code",
   "execution_count": 7,
   "metadata": {
    "scrolled": false
   },
   "outputs": [
    {
     "data": {
      "image/png": "[encoded data removed]",
      "text/plain": [
       "Figure(PyObject <Figure size 640x480 with 2 Axes>)"
      ]
     },
     "metadata": {},
     "output_type": "display_data"
    }
   ],
   "source": [
    "contourf(XX1,PP1,colors,cmap=\"Reds\")\n",
    "colorbar(label=L\"$0\\rightarrow x<0$,  $1\\rightarrow x>0$\")\n",
    "xlabel(L\"$X$\")\n",
    "ylabel(L\"$P$\")\n",
    "title(\"Attractors where the particle goes given \\n initial conditions of oscillator \\n for 200x200 grid\")\n",
    "savefig(\"particle_sides.png\",bbox_inches=\"tight\")\n",
    "savefig(\"particle_sides.pdf\",bbox_inches=\"tight\")\n",
    "#matshow(colors)\n",
    "#xticks(range(-30,stop=(30),length=(10)))\n",
    "#yticks(range(-2,stop=(2),length=(10)))\n",
    "#colorbar()"
   ]
  },
  {
   "cell_type": "code",
   "execution_count": 49,
   "metadata": {},
   "outputs": [
    {
     "data": {
      "text/plain": [
       "true"
      ]
     },
     "execution_count": 49,
     "metadata": {},
     "output_type": "execute_result"
    }
   ],
   "source": [
    "PyPlot.pygui(true)"
   ]
  },
  {
   "cell_type": "code",
   "execution_count": 162,
   "metadata": {},
   "outputs": [
    {
     "data": {
      "text/plain": [
       "4×4 Array{Int64,2}:\n",
       " 1  5   9  13\n",
       " 2  6  10  14\n",
       " 3  7  11  15\n",
       " 4  8  12  16"
      ]
     },
     "execution_count": 162,
     "metadata": {},
     "output_type": "execute_result"
    }
   ],
   "source": [
    "r=[1,2,3,4,5,6,7,8,9,10,11,12,13,14,15,16]\n",
    "r=reshape(r,(4,4))"
   ]
  },
  {
   "cell_type": "code",
   "execution_count": 109,
   "metadata": {},
   "outputs": [
    {
     "data": {
      "text/plain": [
       "4×4 Array{Int64,2}:\n",
       " 13  14  15  16\n",
       "  9  10  11  12\n",
       "  5   6   7   8\n",
       "  1   2   3   4"
      ]
     },
     "execution_count": 109,
     "metadata": {},
     "output_type": "execute_result"
    }
   ],
   "source": [
    "rotl90(r)"
   ]
  },
  {
   "cell_type": "code",
   "execution_count": null,
   "metadata": {},
   "outputs": [],
   "source": []
  }
 ],
 "metadata": {
  "kernelspec": {
   "display_name": "Julia 1.3.0",
   "language": "julia",
   "name": "julia-1.3"
  },
  "language_info": {
   "file_extension": ".jl",
   "mimetype": "application/julia",
   "name": "julia",
   "version": "1.3.0"
  }
 },
 "nbformat": 4,
 "nbformat_minor": 2
}
